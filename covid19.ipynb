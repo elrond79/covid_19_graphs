{
 "cells": [
  {
   "cell_type": "code",
   "execution_count": null,
   "metadata": {},
   "outputs": [],
   "source": [
    "import pandas\n",
    "nytimes_counties = 'https://raw.githubusercontent.com/nytimes/covid-19-data/master/us-counties.csv'\n",
    "counties_data = pandas.read_csv(nytimes_counties, parse_dates=['date'])\n",
    "counties_data['county_state'] = counties_data['county'].str.cat(counties_data['state'], sep =\", \")"
   ]
  },
  {
   "cell_type": "code",
   "execution_count": null,
   "metadata": {},
   "outputs": [],
   "source": [
    "counties = sorted(counties_data['county_state'].unique())"
   ]
  },
  {
   "cell_type": "code",
   "execution_count": null,
   "metadata": {},
   "outputs": [],
   "source": [
    "#la_data = data[(data.state == 'California') & (data.county == 'Los Angeles')]\n",
    "la_data = counties_data[counties_data.county_state == 'Los Angeles, California']\n",
    "oc_data = counties_data[counties_data.county_state == 'Orange, California']"
   ]
  },
  {
   "cell_type": "code",
   "execution_count": null,
   "metadata": {},
   "outputs": [],
   "source": [
    "from collections import OrderedDict\n",
    "\n",
    "# Thanks to Kenneth Kelly + Ohad Schneider:\n",
    "# https://stackoverflow.com/a/13781114/920545\n",
    "kelly_colors_dict = OrderedDict(\n",
    "    black=(0,0,0),\n",
    "    vivid_yellow=(255, 179, 0),\n",
    "    strong_purple=(128, 62, 117),\n",
    "    vivid_orange=(255, 104, 0),\n",
    "    very_light_blue=(166, 189, 215),\n",
    "    vivid_red=(193, 0, 32),\n",
    "    grayish_yellow=(206, 162, 98),\n",
    "    medium_gray=(129, 112, 102),\n",
    "\n",
    "    # these aren't good for people with defective color vision:\n",
    "    vivid_green=(0, 125, 52),\n",
    "    strong_purplish_pink=(246, 118, 142),\n",
    "    strong_blue=(0, 83, 138),\n",
    "    strong_yellowish_pink=(255, 122, 92),\n",
    "    strong_violet=(83, 55, 122),\n",
    "    vivid_orange_yellow=(255, 142, 0),\n",
    "    strong_purplish_red=(179, 40, 81),\n",
    "    vivid_greenish_yellow=(244, 200, 0),\n",
    "    strong_reddish_brown=(127, 24, 13),\n",
    "    vivid_yellowish_green=(147, 170, 0),\n",
    "    deep_yellowish_brown=(89, 51, 21),\n",
    "    vivid_reddish_orange=(241, 58, 19),\n",
    "    dark_olive_green=(35, 44, 22),\n",
    ")\n",
    "kelly_colors = list(kelly_colors_dict.values())"
   ]
  },
  {
   "cell_type": "code",
   "execution_count": null,
   "metadata": {},
   "outputs": [],
   "source": [
    "from bokeh.models import ColumnDataSource\n",
    "\n",
    "source = ColumnDataSource(data=counties_data)\n"
   ]
  },
  {
   "cell_type": "code",
   "execution_count": null,
   "metadata": {},
   "outputs": [],
   "source": []
  },
  {
   "cell_type": "code",
   "execution_count": null,
   "metadata": {},
   "outputs": [],
   "source": [
    "from bokeh.plotting import figure, output_file, output_notebook, show\n",
    "\n",
    "# output to static HTML file\n",
    "#output_file(\"lines.html\")\n",
    "output_notebook()\n",
    "\n",
    "# create a new plot with a title and axis labels\n",
    "p = figure(title=\"Covid 19\", x_axis_label='Date', y_axis_label='Deaths', x_axis_type='datetime', y_axis_type='log')\n",
    "\n",
    "p.line(x='date', y='deaths', source=la_data, line_width=3, color=kelly_colors[0])\n",
    "p.line(x='date', y='deaths', source=oc_data, line_width=3, color=kelly_colors[1])\n",
    "\n",
    "# show the results\n",
    "show(p)\n",
    "\n",
    "'https://towardsdatascience.com/data-visualization-with-bokeh-in-python-part-ii-interactions-a4cf994e2512'\n",
    "'https://realpython.com/lessons/using-groupfilter-and-cdsview/'"
   ]
  },
  {
   "cell_type": "code",
   "execution_count": null,
   "metadata": {},
   "outputs": [],
   "source": []
  }
 ],
 "metadata": {
  "kernelspec": {
   "display_name": "Python 3",
   "language": "python",
   "name": "python3"
  },
  "language_info": {
   "codemirror_mode": {
    "name": "ipython",
    "version": 3
   },
   "file_extension": ".py",
   "mimetype": "text/x-python",
   "name": "python",
   "nbconvert_exporter": "python",
   "pygments_lexer": "ipython3",
   "version": "3.8.2"
  }
 },
 "nbformat": 4,
 "nbformat_minor": 4
}
