{
 "cells": [
  {
   "cell_type": "code",
   "execution_count": null,
   "metadata": {},
   "outputs": [],
   "source": [
    "# helpful links\n",
    "'https://towardsdatascience.com/data-visualization-with-bokeh-in-python-part-ii-interactions-a4cf994e2512'\n",
    "'https://realpython.com/lessons/using-groupfilter-and-cdsview/'"
   ]
  },
  {
   "cell_type": "code",
   "execution_count": null,
   "metadata": {},
   "outputs": [],
   "source": [
    "import pandas\n",
    "import math"
   ]
  },
  {
   "cell_type": "code",
   "execution_count": null,
   "metadata": {},
   "outputs": [],
   "source": [
    "# County population data from us census\n",
    "#     https://www.census.gov/data/datasets/time-series/demo/popest/2010s-counties-total.html#par_textimage_70769902\n",
    "#     https://www2.census.gov/programs-surveys/popest/datasets/2010-2019/counties/totals/co-est2019-alldata.csv\n",
    "\n",
    "pop_data_all = pandas.read_csv('./co-est2019-alldata.csv', encoding='IBM850')\n",
    "#with open('./co-est2019-alldata.csv') as f:\n",
    "#    text = f.read()\n",
    "pop_data = pop_data_all[pop_data_all.SUMLEV == 50][\n",
    "    ['STATE', 'COUNTY', 'STNAME', 'CTYNAME', 'POPESTIMATE2019']\n",
    "]\n",
    "pop_data['fips'] = pop_data.STATE * 1000 + pop_data.COUNTY\n",
    "pop_data[pop_data.fips == 6037]"
   ]
  },
  {
   "cell_type": "code",
   "execution_count": null,
   "metadata": {},
   "outputs": [],
   "source": [
    "pop_data = pop_data[['fips', 'POPESTIMATE2019']]\n",
    "pop_data = pop_data.rename(columns={\n",
    "    'POPESTIMATE2019': 'population',\n",
    "})\n",
    "pop_data = pop_data.set_index('fips')\n",
    "#pop_data = pop_data.reset_index(drop=True)\n",
    "#pop_data['county_state'] = pop_data['county'].str.cat(counties_data['state'], sep =\", \")\n",
    "#pop_data[(pop_data.state_fips == 6) & (pop_data.county_fips == 37)]\n",
    "pop_data[pop_data.index == 6037]"
   ]
  },
  {
   "cell_type": "code",
   "execution_count": null,
   "metadata": {},
   "outputs": [],
   "source": [
    "nytimes_counties_url = 'https://raw.githubusercontent.com/nytimes/covid-19-data/master/us-counties.csv'\n",
    "counties_data = pandas.read_csv(nytimes_counties_url, parse_dates=['date'])\n",
    "# fips codes are left out for, ie, New York City, and \"Unknown\" groupings for states\n",
    "counties_data = counties_data[counties_data.fips.notna()]\n",
    "counties_data = counties_data.astype({'fips': int})\n",
    "#counties_data['state_fips'] = counties_data.fips // 1000\n",
    "#counties_data['county_fips'] = counties_data.fips % 1000\n",
    "#counties_data['county_state'] = counties_data['county'].str.cat(counties_data['state'], sep =\", \")\n",
    "#all_counties = (counties_data['county_state'].unique())\n",
    "counties_data = pandas.merge(counties_data, pop_data, left_on='fips', right_on=pop_data.index)\n",
    "counties_data['cases_per_million'] = counties_data.cases / (counties_data.population / 1e6)\n",
    "counties_data['deaths_per_million'] = counties_data.deaths / (counties_data.population / 1e6)"
   ]
  },
  {
   "cell_type": "code",
   "execution_count": null,
   "metadata": {},
   "outputs": [],
   "source": [
    "# Confirm all counties in nytimes data have population data\n",
    "counties_fips = set(counties_data.fips.unique())\n",
    "pop_fips = set(pop_data.index.unique())\n",
    "assert len(counties_fips - pop_fips) == 0"
   ]
  },
  {
   "cell_type": "code",
   "execution_count": null,
   "metadata": {},
   "outputs": [],
   "source": [
    "#la_data = counties_data[counties_data.county_state == 'Los Angeles, California']\n",
    "#oc_data = counties_data[counties_data.county_state == 'Orange, California']\n",
    "\n",
    "la_data = counties_data[(counties_data.state == 'California') & (counties_data.county == 'Los Angeles')]\n",
    "oc_data = counties_data[(counties_data.state == 'California') & (counties_data.county == 'Orange')]\n",
    "\n",
    "la_data"
   ]
  },
  {
   "cell_type": "code",
   "execution_count": null,
   "metadata": {},
   "outputs": [],
   "source": [
    "def get_data_since(data, condition_func):\n",
    "    condition = condition_func(data)\n",
    "    since_data = data[condition].reset_index(drop=True)\n",
    "    day0 = since_data.date.min()\n",
    "    since_data['days'] = (since_data.date - day0).apply(lambda x: x.days)\n",
    "    return since_data\n",
    "\n",
    "def deaths_per_mill_greater_1(data):\n",
    "    return data.deaths_per_million >= 1.0\n",
    "\n",
    "la_since_1_death_per_mill_data = get_data_since(la_data, deaths_per_mill_greater_1)\n",
    "oc_since_1_death_per_mill_data = get_data_since(oc_data, deaths_per_mill_greater_1)\n",
    "\n",
    "oc_since_1_death_per_mill_data"
   ]
  },
  {
   "cell_type": "code",
   "execution_count": null,
   "metadata": {},
   "outputs": [],
   "source": [
    "from collections import OrderedDict\n",
    "\n",
    "# Thanks to Kenneth Kelly + Ohad Schneider:\n",
    "# https://stackoverflow.com/a/13781114/920545\n",
    "kelly_colors_dict = OrderedDict(\n",
    "    black=(0,0,0),\n",
    "    vivid_yellow=(255, 179, 0),\n",
    "    strong_purple=(128, 62, 117),\n",
    "    vivid_orange=(255, 104, 0),\n",
    "    very_light_blue=(166, 189, 215),\n",
    "    vivid_red=(193, 0, 32),\n",
    "    grayish_yellow=(206, 162, 98),\n",
    "    medium_gray=(129, 112, 102),\n",
    "\n",
    "    # these aren't good for people with defective color vision:\n",
    "    vivid_green=(0, 125, 52),\n",
    "    strong_purplish_pink=(246, 118, 142),\n",
    "    strong_blue=(0, 83, 138),\n",
    "    strong_yellowish_pink=(255, 122, 92),\n",
    "    strong_violet=(83, 55, 122),\n",
    "    vivid_orange_yellow=(255, 142, 0),\n",
    "    strong_purplish_red=(179, 40, 81),\n",
    "    vivid_greenish_yellow=(244, 200, 0),\n",
    "    strong_reddish_brown=(127, 24, 13),\n",
    "    vivid_yellowish_green=(147, 170, 0),\n",
    "    deep_yellowish_brown=(89, 51, 21),\n",
    "    vivid_reddish_orange=(241, 58, 19),\n",
    "    dark_olive_green=(35, 44, 22),\n",
    ")\n",
    "kelly_colors = list(kelly_colors_dict.values())"
   ]
  },
  {
   "cell_type": "code",
   "execution_count": null,
   "metadata": {},
   "outputs": [],
   "source": [
    "from bokeh.plotting import figure, output_file, output_notebook, show\n",
    "\n",
    "# display output inline in notebook\n",
    "output_notebook()\n",
    "\n",
    "# # output to static HTML file\n",
    "# output_file(\"deaths.html\")\n",
    "# p = figure(title=\"Covid 19\", x_axis_label='Date', y_axis_label='Deaths', x_axis_type='datetime', y_axis_type='log')\n",
    "# p.line(x='date', y='deaths', source=la_data, line_width=3, color=kelly_colors[0])\n",
    "# p.line(x='date', y='deaths', source=oc_data, line_width=3, color=kelly_colors[1])\n",
    "\n",
    "# # output to static HTML file\n",
    "# output_file(\"deaths_million_since_1.html\")\n",
    "p = figure(title=\"Covid 19 - deaths since 1/million\",\n",
    "           x_axis_label='Days since 1 death/million', y_axis_label='Deaths/million',\n",
    "           y_axis_type='log')\n",
    "p.line(x='days', y='deaths_per_million', source=la_since_1_death_per_mill_data,\n",
    "       line_width=3, color=kelly_colors[0], legend_label='LA')\n",
    "p.line(x='days', y='deaths_per_million', source=oc_since_1_death_per_mill_data,\n",
    "       line_width=3, color=kelly_colors[1], legend_label='OC')\n",
    "\n",
    "# show the results\n",
    "show(p)"
   ]
  },
  {
   "cell_type": "code",
   "execution_count": null,
   "metadata": {},
   "outputs": [],
   "source": []
  }
 ],
 "metadata": {
  "kernelspec": {
   "display_name": "Python 3",
   "language": "python",
   "name": "python3"
  },
  "language_info": {
   "codemirror_mode": {
    "name": "ipython",
    "version": 3
   },
   "file_extension": ".py",
   "mimetype": "text/x-python",
   "name": "python",
   "nbconvert_exporter": "python",
   "pygments_lexer": "ipython3",
   "version": "3.8.2"
  }
 },
 "nbformat": 4,
 "nbformat_minor": 4
}
